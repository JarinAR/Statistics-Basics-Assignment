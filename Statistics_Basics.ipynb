{
  "nbformat": 4,
  "nbformat_minor": 0,
  "metadata": {
    "colab": {
      "provenance": []
    },
    "kernelspec": {
      "name": "python3",
      "display_name": "Python 3"
    },
    "language_info": {
      "name": "python"
    }
  },
  "cells": [
    {
      "cell_type": "markdown",
      "source": [
        "##**Assignment Questions:**"
      ],
      "metadata": {
        "id": "peZpAfS-Q7aj"
      }
    },
    {
      "cell_type": "markdown",
      "source": [
        "**Q1.Explain the different types of data(qualitative and quantitative) and provide\n",
        "examples of each.Discuss Nominal,ordinal,interval,and ratio scales.**"
      ],
      "metadata": {
        "id": "CmW5FkTYRA4Y"
      }
    },
    {
      "cell_type": "markdown",
      "source": [
        "Ans: Qualitative data, also called categorical data, refers to information that\n",
        "describes qualities or characteristics. It does not involve numbers but rather labels,\n",
        "categories, or attributes.\n",
        "Types of Qualitative Data:\n",
        "1. Nominal Data: This is data that consists of categories with no inherent order\n",
        "or ranking. The categories are mutually exclusive and cannot be ordered in a\n",
        "meaningful way.\n",
        "○ Examples:\n",
        "■ Eye color (blue, green, brown)\n",
        "■ Gender (male, female, non-binary)\n",
        "■ Marital status (single, married, divorced)\n",
        "\n",
        "2. Ordinal Data: This type of data represents categories with a meaningful order\n",
        "or ranking. However, the differences between the categories are not defined\n",
        "or standardized.\n",
        "○ Examples:\n",
        "■ Education level (high school, bachelor's degree, master's\n",
        "degree, PhD)\n",
        "■ Satisfaction level (very unsatisfied, unsatisfied, neutral, satisfied,\n",
        "very satisfied)\n",
        "■ Likert scale responses (strongly agree, agree, neutral, disagree,\n",
        "strongly disagree)\n",
        "\n",
        "Quantitative data refers to numerical data that can be measured and quantified. It\n",
        "can be used for arithmetic operations, and the numbers hold meaning in terms of\n",
        "amounts, quantities, or measurements.\n",
        "Types of Quantitative Data:\n",
        "1. Interval Data: This data involves numbers that are ordered, and the\n",
        "differences between values are meaningful. However, interval data does not\n",
        "have a true zero point (the zero does not represent the absence of the\n",
        "quantity).\n",
        "○ Examples:■ Temperature (in Celsius or Fahrenheit) — 0°C does not mean\n",
        "\"no temperature\"\n",
        "■ Calendar dates — the year 0 is arbitrary and does not imply the\n",
        "absence of time\n",
        "\n",
        "2. Ratio Data: This is similar to interval data, but it includes a true zero point,\n",
        "meaning the absence of the quantity is meaningful. With ratio data, all\n",
        "arithmetic operations are possible, and ratios between values are meaningful.\n",
        "○ Examples:\n",
        "■ Weight (e.g., 0 kg means no weight)\n",
        "■ Height (e.g., 0 cm means no height)\n",
        "■ Age (e.g., 0 years means no age)"
      ],
      "metadata": {
        "id": "rmu0M4dpRLdK"
      }
    },
    {
      "cell_type": "markdown",
      "source": [
        "**Q2.What are the measures of central tendency, and when should you use\n",
        "each? Discuss the mean,median and mode with examples and situations\n",
        "where each is appropriate.**"
      ],
      "metadata": {
        "id": "S3oL18GjRX0k"
      }
    },
    {
      "cell_type": "markdown",
      "source": [
        "Ans: Measures of central tendency are statistical tools used to describe the center\n",
        "or typical value of a data set. The three most common measures are mean, median,\n",
        "and mode. Each measure is useful in different situations, depending on the nature of\n",
        "the data.\n",
        "1. Mean\n",
        "● Definition: The mean is the average of all the values in a data set. It is\n",
        "calculated by adding all the numbers together and dividing by the total count.\n",
        "● Formula: Mean=Sum of all valuesNumber of values\\text{Mean} =\n",
        "\\frac{\\text{Sum of all values}}{\\text{Number of values}}\n",
        "● Example:\n",
        "If you have the test scores: 80, 85, 90, 95, the mean is:\n",
        "80+85+90+954=3504=87.5\\frac{80 + 85 + 90 + 95}{4} = \\frac{350}{4} = 87.5\n",
        "● When to use:\n",
        "Use the mean when the data is fairly evenly distributed and there are no\n",
        "extreme values (outliers). It gives a good overall measure of the data's central\n",
        "value.\n",
        "2. Median\n",
        "● Definition: The median is the middle value when the data is arranged in order\n",
        "(from least to greatest). If there is an even number of values, the median is\n",
        "the average of the two middle numbers.\n",
        "● Example:\n",
        "For the data set: 80, 85, 90, 95, the median is 87.5 (the average of 85 and\n",
        "90, since they are the two middle values).\n",
        "○ For the data set: 80, 85, 90, the median is 85 (the middle number).\n",
        "● When to use:\n",
        "Use the median when the data has outliers or is skewed (not symmetrically\n",
        "distributed). The median is less affected by extreme values and better\n",
        "represents the center of the data in such cases.\n",
        "3. Mode\n",
        "● Definition: The mode is the value that appears most frequently in the data set.\n",
        "A data set can have no mode (if all values are unique), one mode, or multiple\n",
        "modes (if two or more values appear with the same highest frequency).\n",
        "● Example:\n",
        "For the data set: 80, 85, 90, 90, 95, the mode is 90 because it appears most\n",
        "often.\n",
        "○ For the data set: 80, 85, 90, 95, there is no mode because all values\n",
        "appear only once.\n",
        "\n",
        "● When to use:\n",
        "Use the mode when you are interested in the most common or frequent\n",
        "value, especially for categorical data (like survey responses or product\n",
        "preferences)."
      ],
      "metadata": {
        "id": "yYv7SpiiReGw"
      }
    },
    {
      "cell_type": "markdown",
      "source": [
        "**Q3.Explain the concept of dispersion.How do variance and standard deviation\n",
        "measure the spread of data?**"
      ],
      "metadata": {
        "id": "Cz5Hw-CrRsGS"
      }
    },
    {
      "cell_type": "markdown",
      "source": [
        "Ans: Dispersion refers to how spread out or scattered the values in a data set are. It\n",
        "helps us understand whether the values are close to the average or widely spread.\n",
        "Variance:\n",
        "● Definition: Variance measures the average squared distance between each\n",
        "data point and the mean. It shows how much the data points differ from the\n",
        "mean.\n",
        "● Formula: Variance=∑(xi−μ)2N\\text{Variance} = \\frac{\\sum (x_i - \\mu)^2}{N}\n",
        "Where xix_i are the data points, μ\\mu is the mean, and NN is the number of\n",
        "data points.\n",
        "● Explanation: A high variance means the data points are spread out from the\n",
        "mean, while a low variance means the data points are close to the mean.\n",
        "Standard Deviation:\n",
        "● Definition: Standard deviation is the square root of the variance. It gives a\n",
        "more intuitive measure of spread, in the same units as the data.\n",
        "● Formula: Standard Deviation=Variance\\text{Standard Deviation} =\n",
        "\\sqrt{\\text{Variance}}\n",
        "● Explanation: Like variance, a high standard deviation means the data is\n",
        "spread out, while a low standard deviation means the data is more clustered\n",
        "around the mean.\n",
        "\n",
        "When to use:\n",
        "● Variance: Useful for statistical calculations, especially in advanced analysis.\n",
        "● Standard Deviation: More commonly used in everyday data analysis\n",
        "because it’s easier to understand and interpret."
      ],
      "metadata": {
        "id": "ZnshJ8d6RxLx"
      }
    },
    {
      "cell_type": "markdown",
      "source": [
        "**Q4.What is a box plot,and what can it tell you about the distribution of data?**"
      ],
      "metadata": {
        "id": "HQmJc8AiR34k"
      }
    },
    {
      "cell_type": "markdown",
      "source": [
        "Ans: A box plot is a graph that shows how data is spread out. It displays the\n",
        "minimum, first quartile (Q1), median, third quartile (Q3), and maximum values, along\n",
        "with whiskers that show the range and outliers that are unusually high or low values.\n",
        "What a box plot can tell you:\n",
        "● Spread of data: The length of the box shows how spread out the middle 50%\n",
        "of the data is.\n",
        "● Symmetry: If the median is in the center, the data is balanced. If it's\n",
        "off-center, the data might be skewed.\n",
        "● Outliers: Data points outside the whiskers are outliers.\n",
        "● Skewness: Longer whiskers on one side indicate skewed data."
      ],
      "metadata": {
        "id": "yJBEf68TR7sG"
      }
    },
    {
      "cell_type": "markdown",
      "source": [
        "**Q5.Discuss the role of random sampling in making inferences about\n",
        "population.**"
      ],
      "metadata": {
        "id": "BKswhRG9R_jP"
      }
    },
    {
      "cell_type": "markdown",
      "source": [
        "Ans: Random sampling is a method where each individual in a population has an\n",
        "equal chance of being selected. It plays a crucial role in making inferences\n",
        "(conclusions) about a larger population based on a smaller sample.\n",
        "Role of Random Sampling:\n",
        "1. Representative Sample: It helps ensure that the sample reflects the diversity\n",
        "of the population. This makes it more likely that the results from the sample\n",
        "can be generalized to the whole population.\n",
        "2. Reduces Bias: By randomly selecting individuals, random sampling reduces\n",
        "the chance of bias (favoring certain groups over others), leading to more accurate and fair conclusions.\n",
        "3. Statistical Inferences: With a random sample, you can use statistical methods\n",
        "to estimate population characteristics (like averages, proportions) and make\n",
        "predictions about the entire population.\n",
        "\n",
        "Example:\n",
        "If you want to know the average height of students in a school, selecting students\n",
        "randomly gives you a better chance of having a sample that mirrors the whole\n",
        "school, leading to more reliable results.\n",
        "In short, random sampling allows for accurate, unbiased conclusions about a\n",
        "population based on a smaller, manageable sample."
      ],
      "metadata": {
        "id": "QYZ8UwfXSC45"
      }
    },
    {
      "cell_type": "markdown",
      "source": [
        "**Q6.Explain the concept of skewness and its types.How does skewness affect\n",
        "the interpretation of data?**"
      ],
      "metadata": {
        "id": "VoByBgeKSMGN"
      }
    },
    {
      "cell_type": "markdown",
      "source": [
        "Ans: Skewness refers to the asymmetry or lopsidedness of a data distribution. It tells\n",
        "us whether the data is stretched more to the left or right of the center (mean).\n",
        "Types of Skewness:\n",
        "1. Positive Skew (Right Skew):\n",
        "○ The right tail (higher values) is longer or more spread out.\n",
        "○ The mean is greater than the median.\n",
        "○ Example: Income distribution (a few people have very high incomes,\n",
        "pulling the average to the right).\n",
        "\n",
        "2. Negative Skew (Left Skew):\n",
        "○ The left tail (lower values) is longer or more spread out.\n",
        "○ The mean is less than the median.\n",
        "○ Example: Age at retirement (most people retire at similar ages, but\n",
        "some retire much earlier).\n",
        "\n",
        "3. No Skew (Symmetric):\n",
        "○ The data is evenly spread around the mean.\n",
        "○ The mean and median are close to each other.\n",
        "○ Example: Heights of a group of people (if everyone is roughly the same\n",
        "height).\n",
        "\n",
        "How Skewness Affects Interpretation:\n",
        "● Positive skew: The average might be higher than expected due to a few\n",
        "extreme high values.\n",
        "● Negative skew: The average might be lower than expected due to a few\n",
        "extreme low values.\n",
        "● In both cases, relying only on the mean can be misleading, so it's better to\n",
        "also consider the median to get a more accurate picture of the data's center.\n",
        "In short, skewness shows whether the data is unevenly spread, and it can impact\n",
        "how we interpret averages (mean) and other measures of central tendency."
      ],
      "metadata": {
        "id": "bp7HWeKSSRLS"
      }
    },
    {
      "cell_type": "markdown",
      "source": [
        "**Q7.What is the interquartile range(IQR),and how is it used to detect outliers?**"
      ],
      "metadata": {
        "id": "PU0UpVEmSdWO"
      }
    },
    {
      "cell_type": "markdown",
      "source": [
        "Ans: The Interquartile Range (IQR) measures the spread of the middle 50% of the\n",
        "data, calculated as:\n",
        "IQR=Q3−Q1\\text{IQR} = Q3 - Q1\n",
        "Where Q1 is the 25th percentile and Q3 is the 75th percentile.\n",
        "Detecting Outliers:\n",
        "● Outliers are values outside the range:\n",
        "○ Lower threshold: Q1−1.5×IQRQ1 - 1.5 \\times \\text{IQR}\n",
        "○ Upper threshold: Q3+1.5×IQRQ3 + 1.5 \\times \\text{IQR}\n",
        "● Data points below the lower threshold or above the upper threshold are\n",
        "outliers.\n",
        "In short, IQR helps detect outliers by identifying values far from the middle 50% of\n",
        "the data."
      ],
      "metadata": {
        "id": "ZlvDn-WoSiZr"
      }
    },
    {
      "cell_type": "markdown",
      "source": [
        "**Q8.Discuss the conditions under which the binomial distribution is used?**"
      ],
      "metadata": {
        "id": "X86wWRp-Skkn"
      }
    },
    {
      "cell_type": "markdown",
      "source": [
        "Ans: The binomial distribution is used when the following conditions are met:\n",
        "1. Two possible outcomes: Each trial has only two possible outcomes, often\n",
        "called success and failure (e.g., heads or tails in a coin flip).\n",
        "2. Fixed number of trials: The number of trials, nn, is fixed (e.g., flipping a coin\n",
        "10 times).\n",
        "3. Independent trials: The outcome of one trial does not affect the others (e.g.,\n",
        "one coin flip doesn’t influence the next).\n",
        "4. Constant probability: The probability of success, pp, is the same for each trial\n",
        "(e.g., the probability of heads in each flip of a fair coin is always 0.5).\n",
        "\n",
        "Example:\n",
        "● Flipping a coin 10 times and counting the number of heads is a binomial\n",
        "distribution with 10 trials, 2 outcomes (heads or tails), and a constant\n",
        "probability of 0.5 for heads."
      ],
      "metadata": {
        "id": "Mal6brjRSpj3"
      }
    },
    {
      "cell_type": "markdown",
      "source": [
        "**Q9.Explain the properties of the normal distribution and the empirical\n",
        "rule(68-95-99.7rule).**"
      ],
      "metadata": {
        "id": "CUKmloKfSwdQ"
      }
    },
    {
      "cell_type": "markdown",
      "source": [
        "Ans: Properties of the Normal Distribution:\n",
        "1. The normal distribution is a bell-shaped curve that is symmetrical, with the\n",
        "peak at the mean.\n",
        "2. The mean, median, and mode are all the same and located at the center.\n",
        "3. The distribution is symmetric, meaning the left and right sides of the curve are\n",
        "mirror images.\n",
        "4. The curve extends infinitely in both directions, getting closer to zero as it\n",
        "moves away from the center.\n",
        "The Empirical Rule (68-95-99.7 Rule):\n",
        "This rule applies to a normal distribution and describes how data is spread:\n",
        "1. 68% of the data lies within 1 standard deviation from the mean.\n",
        "2. 95% of the data lies within 2 standard deviations from the mean.\n",
        "3. 99.7% of the data lies within 3 standard deviations from the mean.\n",
        "Example:\n",
        "If the mean height of a group of people is 170 cm with a standard deviation of 5 cm:\n",
        "● 68% of people have a height between 165 cm and 175 cm (1 standard\n",
        "deviation).\n",
        "● 95% of people have a height between 160 cm and 180 cm (2 standard\n",
        "deviations).\n",
        "In short, the normal distribution is symmetric, and the empirical rule shows how data\n",
        "deviations).\n",
        "99.7% of people have a height between 155 cm and 185 cm (3 standard is spread\n",
        "around the mean in a predictable way: 68% within 1 standard deviation, 95% within\n",
        "2, and 99.7% within 3."
      ],
      "metadata": {
        "id": "aVg6JxSTS0e7"
      }
    },
    {
      "cell_type": "markdown",
      "source": [
        "**Q10.Provide a real life example of a Poisson process and calculate the\n",
        "probability for a specific event.**"
      ],
      "metadata": {
        "id": "YCEV9EiIS9tc"
      }
    },
    {
      "cell_type": "markdown",
      "source": [
        "Ans: A Poisson process models events happening randomly and independently over\n",
        "a fixed period of time with a constant average rate.\n",
        "\n",
        "Example: A bus stop receives an average of 4 buses per hour. What is the\n",
        "probability that exactly 2 buses arrive in the next hour?\n",
        "Poisson formula: P(X = k) = (λ^k * e^(-λ)) / k!\n",
        "\n",
        "Where:\n",
        "● λ = 4 (average buses per hour)\n",
        "● k = 2 (buses we want)\n",
        "Calculation: P(X = 2) = (4^2 * e^(-4)) / 2! First, calculate:\n",
        "● 4^2 = 16\n",
        "● e^(-4) ≈ 0.0183\n",
        "● 2! = 2\n",
        "\n",
        "Now, plug values in: P(X = 2) = (16 * 0.0183) / 2 ≈ 0.146\n",
        "\n",
        "Result: The probability of exactly 2 buses arriving in the next hour is about 14.6%."
      ],
      "metadata": {
        "id": "myM4wuoVS_pF"
      }
    },
    {
      "cell_type": "markdown",
      "source": [
        "**Q11.Explain what a random variable is and differentiate between discrete and\n",
        "continuous random variables.**"
      ],
      "metadata": {
        "id": "J4gb1cEpTJAr"
      }
    },
    {
      "cell_type": "markdown",
      "source": [
        "Ans:A random variable is a numerical outcome of a random event or experiment. It\n",
        "can take different values based on the outcome of that event.\n",
        "There are two types of random variables:\n",
        "1. Discrete random variable: Takes specific, countable values. For example, the\n",
        "number of heads in 5 coin flips (it can be 0, 1, 2, 3, 4, or 5).\n",
        "2. Continuous random variable: Can take any value within a range and is\n",
        "uncountable. For example, the height of a person (it can be any value, like\n",
        "170.5 cm or 170.55 cm).\n",
        "\n",
        "In short, a discrete random variable has distinct, countable values, while a\n",
        "continuous random variable can have any value within a given range."
      ],
      "metadata": {
        "id": "vjSvTwOATOyV"
      }
    },
    {
      "cell_type": "markdown",
      "source": [
        "**Q12.Provide an example dataset,calculate both covariance and correlation,and\n",
        "interpret the results.**"
      ],
      "metadata": {
        "id": "FcToOhEaTVSP"
      }
    },
    {
      "cell_type": "markdown",
      "source": [
        "Ans: Example dataset:\n",
        "\n",
        "X Y\n",
        "\n",
        "1 2\n",
        "\n",
        "2 4\n",
        "\n",
        "3 6\n",
        "\n",
        "4 8\n",
        "\n",
        "5 1\n",
        "0\n",
        "\n",
        "Covariance Calculation:\n",
        "Covariance measures the relationship between two variables. It is calculated as:\n",
        "Cov(X, Y) = Σ [(Xi - X̄) * (Yi - Ȳ)] / (n - 1)\n",
        "Where X̄ and Ȳ are the means of X and Y, respectively.\n",
        "\n",
        "For this dataset:\n",
        "\n",
        "● X̄ = (1+2+3+4+5)/5 = 3\n",
        "● Ȳ = (2+4+6+8+10)/5 = 6\n",
        "\n",
        "Now calculate the covariance:\n",
        "\n",
        "Cov(X, Y) = [(1-3)(2-6) + (2-3)(4-6) + (3-3)(6-6) + (4-3)(8-6) + (5-3)(10-6)] / 4 Cov(X,\n",
        "Y) = [(-2)(-4) + (-1)(-2) + (0)(0) + (1)(2) + (2)(4)] / 4 Cov(X, Y) = [8 + 2 + 0 + 2 + 8] / 4\n",
        "= 20 / 4 = 5\n",
        "\n",
        "\n",
        "Correlation Calculation:\n",
        "\n",
        "Correlation normalizes the covariance by dividing it by the product of the standard\n",
        "deviations of X and Y:\n",
        "\n",
        "Corr(X, Y) = Cov(X, Y) / (σX * σY)\n",
        "\n",
        "First, calculate the standard deviations of X and Y:\n",
        "● σX = √[(Σ(Xi - X̄)2) / (n - 1)]\n",
        "● σY = √[(Σ(Yi - Ȳ)2) / (n - 1)]\n",
        "For X: σX = √[( (-2)2 + (-1)2 + (0)2 + (1)2 + (2)2) / 4] = √[(4 + 1 + 0 + 1 + 4) / 4] = √[10 /\n",
        "4] = √2.5 ≈ 1.58\n",
        "For Y: σY = √[( (-4)2 + (-2)2 + (0)2 + (2)2 + (4)2) / 4] = √[(16 + 4 + 0 + 4 + 16)/ 4] =\n",
        "√[40 / 4] = √10 ≈ 3.16\n",
        "\n",
        "Now, calculate the correlation: Corr(X, Y) = 5 / (1.58 * 3.16) ≈ 5 / 5 = 1\n",
        "\n",
        "Interpretation:\n",
        "● The covariance of 5 indicates that X and Y are positively related, meaning as\n",
        "X increases, Y also tends to increase.\n",
        "● The correlation of 1 means a perfect positive linear relationship between X\n",
        "and Y. They move together in a predictable, proportional manner."
      ],
      "metadata": {
        "id": "i2rjPNBSTZIs"
      }
    },
    {
      "cell_type": "code",
      "execution_count": null,
      "metadata": {
        "id": "LPJ7PtocQuj-"
      },
      "outputs": [],
      "source": []
    }
  ]
}